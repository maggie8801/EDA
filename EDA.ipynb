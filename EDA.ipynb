{
  "nbformat": 4,
  "nbformat_minor": 0,
  "metadata": {
    "colab": {
      "name": "EDA.ipynb",
      "provenance": [],
      "mount_file_id": "1JvNRpPHKSdfe5tXIlkGwhchoWgvZAXQT",
      "authorship_tag": "ABX9TyO8SW9glYu5+UlPLUd7baUu",
      "include_colab_link": true
    },
    "kernelspec": {
      "name": "python3",
      "display_name": "Python 3"
    },
    "language_info": {
      "name": "python"
    }
  },
  "cells": [
    {
      "cell_type": "markdown",
      "metadata": {
        "id": "view-in-github",
        "colab_type": "text"
      },
      "source": [
        "<a href=\"https://colab.research.google.com/github/maggie8801/EDA/blob/main/EDA.ipynb\" target=\"_parent\"><img src=\"https://colab.research.google.com/assets/colab-badge.svg\" alt=\"Open In Colab\"/></a>"
      ]
    },
    {
      "cell_type": "markdown",
      "metadata": {
        "id": "h95pVxAX1rW8"
      },
      "source": [
        "###資料前處理，讀檔"
      ]
    },
    {
      "cell_type": "code",
      "metadata": {
        "id": "h6eQK2Op1w_9"
      },
      "source": [
        "import pandas as pd"
      ],
      "execution_count": null,
      "outputs": []
    },
    {
      "cell_type": "code",
      "metadata": {
        "id": "x4yuYV6M14tN"
      },
      "source": [
        "data = pd.read_csv(\"/content/drive/MyDrive/Jourdeness/data3_project.csv\")"
      ],
      "execution_count": 8,
      "outputs": []
    },
    {
      "cell_type": "code",
      "metadata": {
        "id": "JAfEoxbC2Z7Q",
        "colab": {
          "base_uri": "https://localhost:8080/",
          "height": 312
        },
        "outputId": "01416d7b-5bfb-4d1b-f93b-b357ef368c2d"
      },
      "source": [
        "data.head()"
      ],
      "execution_count": 11,
      "outputs": [
        {
          "output_type": "execute_result",
          "data": {
            "text/html": [
              "<div>\n",
              "<style scoped>\n",
              "    .dataframe tbody tr th:only-of-type {\n",
              "        vertical-align: middle;\n",
              "    }\n",
              "\n",
              "    .dataframe tbody tr th {\n",
              "        vertical-align: top;\n",
              "    }\n",
              "\n",
              "    .dataframe thead th {\n",
              "        text-align: right;\n",
              "    }\n",
              "</style>\n",
              "<table border=\"1\" class=\"dataframe\">\n",
              "  <thead>\n",
              "    <tr style=\"text-align: right;\">\n",
              "      <th></th>\n",
              "      <th>InvoiceNo</th>\n",
              "      <th>StockCode</th>\n",
              "      <th>Description</th>\n",
              "      <th>Quantity</th>\n",
              "      <th>InvoiceDate</th>\n",
              "      <th>UnitPrice</th>\n",
              "      <th>CustomerID</th>\n",
              "      <th>Country</th>\n",
              "      <th>member_start_date</th>\n",
              "      <th>first_trans_date</th>\n",
              "    </tr>\n",
              "  </thead>\n",
              "  <tbody>\n",
              "    <tr>\n",
              "      <th>0</th>\n",
              "      <td>PS5327001158</td>\n",
              "      <td>JA01</td>\n",
              "      <td>晶淬雪潔顏乳100ml</td>\n",
              "      <td>8.0</td>\n",
              "      <td>2019-01-01</td>\n",
              "      <td>1259.0</td>\n",
              "      <td>9.100002e+12</td>\n",
              "      <td>中區</td>\n",
              "      <td>2019-12-09</td>\n",
              "      <td>2018-06-24</td>\n",
              "    </tr>\n",
              "    <tr>\n",
              "      <th>1</th>\n",
              "      <td>PS5335020955</td>\n",
              "      <td>KG06</td>\n",
              "      <td>多肽亮眼乳霜20g-保濕型</td>\n",
              "      <td>8.0</td>\n",
              "      <td>2019-01-01</td>\n",
              "      <td>839.0</td>\n",
              "      <td>9.100003e+12</td>\n",
              "      <td>中區</td>\n",
              "      <td>2018-10-21</td>\n",
              "      <td>2018-10-21</td>\n",
              "    </tr>\n",
              "    <tr>\n",
              "      <th>2</th>\n",
              "      <td>PS5335020955</td>\n",
              "      <td>BJ102</td>\n",
              "      <td>檸檬精油10ml MUI</td>\n",
              "      <td>8.0</td>\n",
              "      <td>2019-01-01</td>\n",
              "      <td>839.0</td>\n",
              "      <td>9.100003e+12</td>\n",
              "      <td>中區</td>\n",
              "      <td>2018-10-21</td>\n",
              "      <td>2018-10-21</td>\n",
              "    </tr>\n",
              "    <tr>\n",
              "      <th>3</th>\n",
              "      <td>PS5335020955</td>\n",
              "      <td>JZA3G1</td>\n",
              "      <td>柚見快樂精油15ml MUI</td>\n",
              "      <td>-8.0</td>\n",
              "      <td>2019-01-01</td>\n",
              "      <td>-1501.0</td>\n",
              "      <td>9.100003e+12</td>\n",
              "      <td>中區</td>\n",
              "      <td>2018-10-21</td>\n",
              "      <td>2018-10-21</td>\n",
              "    </tr>\n",
              "    <tr>\n",
              "      <th>4</th>\n",
              "      <td>PS5444006919</td>\n",
              "      <td>BJ103</td>\n",
              "      <td>細花冬青香氛油10ml MUI</td>\n",
              "      <td>8.0</td>\n",
              "      <td>2019-01-01</td>\n",
              "      <td>672.0</td>\n",
              "      <td>9.100003e+12</td>\n",
              "      <td>南區</td>\n",
              "      <td>2018-12-04</td>\n",
              "      <td>2018-12-04</td>\n",
              "    </tr>\n",
              "  </tbody>\n",
              "</table>\n",
              "</div>"
            ],
            "text/plain": [
              "      InvoiceNo StockCode  ... member_start_date  first_trans_date\n",
              "0  PS5327001158      JA01  ...        2019-12-09        2018-06-24\n",
              "1  PS5335020955      KG06  ...        2018-10-21        2018-10-21\n",
              "2  PS5335020955     BJ102  ...        2018-10-21        2018-10-21\n",
              "3  PS5335020955    JZA3G1  ...        2018-10-21        2018-10-21\n",
              "4  PS5444006919     BJ103  ...        2018-12-04        2018-12-04\n",
              "\n",
              "[5 rows x 10 columns]"
            ]
          },
          "metadata": {},
          "execution_count": 11
        }
      ]
    },
    {
      "cell_type": "code",
      "metadata": {
        "colab": {
          "base_uri": "https://localhost:8080/",
          "height": 434
        },
        "id": "DD6fM43y27hl",
        "outputId": "7e5cb2ac-266b-4d82-c83a-eace476b01bb"
      },
      "source": [
        "data.tail()"
      ],
      "execution_count": 12,
      "outputs": [
        {
          "output_type": "execute_result",
          "data": {
            "text/html": [
              "<div>\n",
              "<style scoped>\n",
              "    .dataframe tbody tr th:only-of-type {\n",
              "        vertical-align: middle;\n",
              "    }\n",
              "\n",
              "    .dataframe tbody tr th {\n",
              "        vertical-align: top;\n",
              "    }\n",
              "\n",
              "    .dataframe thead th {\n",
              "        text-align: right;\n",
              "    }\n",
              "</style>\n",
              "<table border=\"1\" class=\"dataframe\">\n",
              "  <thead>\n",
              "    <tr style=\"text-align: right;\">\n",
              "      <th></th>\n",
              "      <th>InvoiceNo</th>\n",
              "      <th>StockCode</th>\n",
              "      <th>Description</th>\n",
              "      <th>Quantity</th>\n",
              "      <th>InvoiceDate</th>\n",
              "      <th>UnitPrice</th>\n",
              "      <th>CustomerID</th>\n",
              "      <th>Country</th>\n",
              "      <th>member_start_date</th>\n",
              "      <th>first_trans_date</th>\n",
              "    </tr>\n",
              "  </thead>\n",
              "  <tbody>\n",
              "    <tr>\n",
              "      <th>1404430</th>\n",
              "      <td>PS5324024941</td>\n",
              "      <td>KQ02</td>\n",
              "      <td>玫瑰晶萃活膚液130ml</td>\n",
              "      <td>16.0</td>\n",
              "      <td>2020-12-31</td>\n",
              "      <td>2946.0</td>\n",
              "      <td>9.100001e+12</td>\n",
              "      <td>中區</td>\n",
              "      <td>2010-03-15</td>\n",
              "      <td>2012-07-11</td>\n",
              "    </tr>\n",
              "    <tr>\n",
              "      <th>1404431</th>\n",
              "      <td>PS5219002027</td>\n",
              "      <td>GAXFG1</td>\n",
              "      <td>真正除臭抗菌噴霧(銀離子迷迭香)250ml</td>\n",
              "      <td>8.0</td>\n",
              "      <td>2020-12-31</td>\n",
              "      <td>309.0</td>\n",
              "      <td>9.100003e+12</td>\n",
              "      <td>竹區</td>\n",
              "      <td>2020-12-08</td>\n",
              "      <td>2020-11-26</td>\n",
              "    </tr>\n",
              "    <tr>\n",
              "      <th>1404432</th>\n",
              "      <td>PS5219002027</td>\n",
              "      <td>MAB2G1</td>\n",
              "      <td>BA-5肌密全效噴霧奇蹟水70ml</td>\n",
              "      <td>8.0</td>\n",
              "      <td>2020-12-31</td>\n",
              "      <td>1094.0</td>\n",
              "      <td>9.100003e+12</td>\n",
              "      <td>竹區</td>\n",
              "      <td>2020-12-08</td>\n",
              "      <td>2020-11-26</td>\n",
              "    </tr>\n",
              "    <tr>\n",
              "      <th>1404433</th>\n",
              "      <td>PS5219002027</td>\n",
              "      <td>WD096</td>\n",
              "      <td>緊緻保濕裸膚羽翼面膜25ml-零售單包</td>\n",
              "      <td>16.0</td>\n",
              "      <td>2020-12-31</td>\n",
              "      <td>165.0</td>\n",
              "      <td>9.100003e+12</td>\n",
              "      <td>竹區</td>\n",
              "      <td>2020-12-08</td>\n",
              "      <td>2020-11-26</td>\n",
              "    </tr>\n",
              "    <tr>\n",
              "      <th>1404434</th>\n",
              "      <td>PS5219002028</td>\n",
              "      <td>GAXFG2</td>\n",
              "      <td>真正除臭抗菌噴霧(銀離子迷迭香)350ml</td>\n",
              "      <td>8.0</td>\n",
              "      <td>2020-12-31</td>\n",
              "      <td>441.0</td>\n",
              "      <td>9.100003e+12</td>\n",
              "      <td>竹區</td>\n",
              "      <td>2020-12-23</td>\n",
              "      <td>2020-12-10</td>\n",
              "    </tr>\n",
              "  </tbody>\n",
              "</table>\n",
              "</div>"
            ],
            "text/plain": [
              "            InvoiceNo StockCode  ... member_start_date  first_trans_date\n",
              "1404430  PS5324024941      KQ02  ...        2010-03-15        2012-07-11\n",
              "1404431  PS5219002027    GAXFG1  ...        2020-12-08        2020-11-26\n",
              "1404432  PS5219002027    MAB2G1  ...        2020-12-08        2020-11-26\n",
              "1404433  PS5219002027     WD096  ...        2020-12-08        2020-11-26\n",
              "1404434  PS5219002028    GAXFG2  ...        2020-12-23        2020-12-10\n",
              "\n",
              "[5 rows x 10 columns]"
            ]
          },
          "metadata": {},
          "execution_count": 12
        }
      ]
    },
    {
      "cell_type": "code",
      "metadata": {
        "colab": {
          "base_uri": "https://localhost:8080/"
        },
        "id": "SCM_qfDy2-rn",
        "outputId": "d276a795-8d58-4e6e-bc47-b63459d3d517"
      },
      "source": [
        "data.info()"
      ],
      "execution_count": 13,
      "outputs": [
        {
          "output_type": "stream",
          "name": "stdout",
          "text": [
            "<class 'pandas.core.frame.DataFrame'>\n",
            "RangeIndex: 1404435 entries, 0 to 1404434\n",
            "Data columns (total 10 columns):\n",
            " #   Column             Non-Null Count    Dtype  \n",
            "---  ------             --------------    -----  \n",
            " 0   InvoiceNo          1404435 non-null  object \n",
            " 1   StockCode          1404435 non-null  object \n",
            " 2   Description        1404435 non-null  object \n",
            " 3   Quantity           1404435 non-null  float64\n",
            " 4   InvoiceDate        1404435 non-null  object \n",
            " 5   UnitPrice          1404435 non-null  float64\n",
            " 6   CustomerID         1403724 non-null  float64\n",
            " 7   Country            1404435 non-null  object \n",
            " 8   member_start_date  1366651 non-null  object \n",
            " 9   first_trans_date   1400412 non-null  object \n",
            "dtypes: float64(3), object(7)\n",
            "memory usage: 107.2+ MB\n"
          ]
        }
      ]
    },
    {
      "cell_type": "code",
      "metadata": {
        "colab": {
          "base_uri": "https://localhost:8080/"
        },
        "id": "ZUwMlbAC302z",
        "outputId": "034ce27d-212d-4f1c-beeb-6578472bbbf3"
      },
      "source": [
        "data.shape"
      ],
      "execution_count": 16,
      "outputs": [
        {
          "output_type": "execute_result",
          "data": {
            "text/plain": [
              "(1404435, 10)"
            ]
          },
          "metadata": {},
          "execution_count": 16
        }
      ]
    },
    {
      "cell_type": "code",
      "metadata": {
        "colab": {
          "base_uri": "https://localhost:8080/"
        },
        "id": "eSOxzJ3P4JPm",
        "outputId": "9ca601f4-ed9f-4cdf-c90b-3c12aea57594"
      },
      "source": [
        "data.Description.value_counts() #value_counts()通常用於type為object的欄位，當然float也可以查看但對資料處理沒幫助"
      ],
      "execution_count": 17,
      "outputs": [
        {
          "output_type": "execute_result",
          "data": {
            "text/plain": [
              "全背順氣活力SPA課程單堂            58636\n",
              "清除環境中腸病毒濕紙巾10抽           52599\n",
              "plus5智頻美塑儀課程單堂           46660\n",
              "(新)溫熱刮痧課程單堂              34129\n",
              "全身健康優化SPA課程單堂            33770\n",
              "                         ...  \n",
              "臉部刮痧單堂                       1\n",
              "背部淨化涵氧SPA課程單堂                1\n",
              "新極線音波拉提100條(單堂200條專用)        1\n",
              "護肝排毒療程單堂(原價)                 1\n",
              "吸水舒壓踏墊                       1\n",
              "Name: Description, Length: 870, dtype: int64"
            ]
          },
          "metadata": {},
          "execution_count": 17
        }
      ]
    },
    {
      "cell_type": "code",
      "metadata": {
        "colab": {
          "base_uri": "https://localhost:8080/"
        },
        "id": "I33k1hJW4wkI",
        "outputId": "a7c70d93-bb5f-4f92-d54a-a5ca1e8b2d26"
      },
      "source": [
        "data.Quantity.value_counts() #果然看不出什麼所以然"
      ],
      "execution_count": 18,
      "outputs": [
        {
          "output_type": "execute_result",
          "data": {
            "text/plain": [
              "8.0       1049817\n",
              "16.0       108839\n",
              "40.0        81210\n",
              "88.0        50378\n",
              "24.0        32042\n",
              "           ...   \n",
              "1360.0          1\n",
              "1472.0          1\n",
              "1520.0          1\n",
              "768.0           1\n",
              "1888.0          1\n",
              "Name: Quantity, Length: 161, dtype: int64"
            ]
          },
          "metadata": {},
          "execution_count": 18
        }
      ]
    },
    {
      "cell_type": "code",
      "metadata": {
        "colab": {
          "base_uri": "https://localhost:8080/",
          "height": 423
        },
        "id": "rkveifPy5UBJ",
        "outputId": "8380894e-8849-4532-9f5c-9157f846e47b"
      },
      "source": [
        "#data['Country'] #看一個欄位\n",
        "data[['StockCode','Description','Quantity','InvoiceDate','UnitPrice']] #看所有特定欄位"
      ],
      "execution_count": 22,
      "outputs": [
        {
          "output_type": "execute_result",
          "data": {
            "text/html": [
              "<div>\n",
              "<style scoped>\n",
              "    .dataframe tbody tr th:only-of-type {\n",
              "        vertical-align: middle;\n",
              "    }\n",
              "\n",
              "    .dataframe tbody tr th {\n",
              "        vertical-align: top;\n",
              "    }\n",
              "\n",
              "    .dataframe thead th {\n",
              "        text-align: right;\n",
              "    }\n",
              "</style>\n",
              "<table border=\"1\" class=\"dataframe\">\n",
              "  <thead>\n",
              "    <tr style=\"text-align: right;\">\n",
              "      <th></th>\n",
              "      <th>StockCode</th>\n",
              "      <th>Description</th>\n",
              "      <th>Quantity</th>\n",
              "      <th>InvoiceDate</th>\n",
              "      <th>UnitPrice</th>\n",
              "    </tr>\n",
              "  </thead>\n",
              "  <tbody>\n",
              "    <tr>\n",
              "      <th>0</th>\n",
              "      <td>JA01</td>\n",
              "      <td>晶淬雪潔顏乳100ml</td>\n",
              "      <td>8.0</td>\n",
              "      <td>2019-01-01</td>\n",
              "      <td>1259.0</td>\n",
              "    </tr>\n",
              "    <tr>\n",
              "      <th>1</th>\n",
              "      <td>KG06</td>\n",
              "      <td>多肽亮眼乳霜20g-保濕型</td>\n",
              "      <td>8.0</td>\n",
              "      <td>2019-01-01</td>\n",
              "      <td>839.0</td>\n",
              "    </tr>\n",
              "    <tr>\n",
              "      <th>2</th>\n",
              "      <td>BJ102</td>\n",
              "      <td>檸檬精油10ml MUI</td>\n",
              "      <td>8.0</td>\n",
              "      <td>2019-01-01</td>\n",
              "      <td>839.0</td>\n",
              "    </tr>\n",
              "    <tr>\n",
              "      <th>3</th>\n",
              "      <td>JZA3G1</td>\n",
              "      <td>柚見快樂精油15ml MUI</td>\n",
              "      <td>-8.0</td>\n",
              "      <td>2019-01-01</td>\n",
              "      <td>-1501.0</td>\n",
              "    </tr>\n",
              "    <tr>\n",
              "      <th>4</th>\n",
              "      <td>BJ103</td>\n",
              "      <td>細花冬青香氛油10ml MUI</td>\n",
              "      <td>8.0</td>\n",
              "      <td>2019-01-01</td>\n",
              "      <td>672.0</td>\n",
              "    </tr>\n",
              "    <tr>\n",
              "      <th>...</th>\n",
              "      <td>...</td>\n",
              "      <td>...</td>\n",
              "      <td>...</td>\n",
              "      <td>...</td>\n",
              "      <td>...</td>\n",
              "    </tr>\n",
              "    <tr>\n",
              "      <th>1404430</th>\n",
              "      <td>KQ02</td>\n",
              "      <td>玫瑰晶萃活膚液130ml</td>\n",
              "      <td>16.0</td>\n",
              "      <td>2020-12-31</td>\n",
              "      <td>2946.0</td>\n",
              "    </tr>\n",
              "    <tr>\n",
              "      <th>1404431</th>\n",
              "      <td>GAXFG1</td>\n",
              "      <td>真正除臭抗菌噴霧(銀離子迷迭香)250ml</td>\n",
              "      <td>8.0</td>\n",
              "      <td>2020-12-31</td>\n",
              "      <td>309.0</td>\n",
              "    </tr>\n",
              "    <tr>\n",
              "      <th>1404432</th>\n",
              "      <td>MAB2G1</td>\n",
              "      <td>BA-5肌密全效噴霧奇蹟水70ml</td>\n",
              "      <td>8.0</td>\n",
              "      <td>2020-12-31</td>\n",
              "      <td>1094.0</td>\n",
              "    </tr>\n",
              "    <tr>\n",
              "      <th>1404433</th>\n",
              "      <td>WD096</td>\n",
              "      <td>緊緻保濕裸膚羽翼面膜25ml-零售單包</td>\n",
              "      <td>16.0</td>\n",
              "      <td>2020-12-31</td>\n",
              "      <td>165.0</td>\n",
              "    </tr>\n",
              "    <tr>\n",
              "      <th>1404434</th>\n",
              "      <td>GAXFG2</td>\n",
              "      <td>真正除臭抗菌噴霧(銀離子迷迭香)350ml</td>\n",
              "      <td>8.0</td>\n",
              "      <td>2020-12-31</td>\n",
              "      <td>441.0</td>\n",
              "    </tr>\n",
              "  </tbody>\n",
              "</table>\n",
              "<p>1404435 rows × 5 columns</p>\n",
              "</div>"
            ],
            "text/plain": [
              "        StockCode            Description  Quantity InvoiceDate  UnitPrice\n",
              "0            JA01            晶淬雪潔顏乳100ml       8.0  2019-01-01     1259.0\n",
              "1            KG06          多肽亮眼乳霜20g-保濕型       8.0  2019-01-01      839.0\n",
              "2           BJ102           檸檬精油10ml MUI       8.0  2019-01-01      839.0\n",
              "3          JZA3G1         柚見快樂精油15ml MUI      -8.0  2019-01-01    -1501.0\n",
              "4           BJ103        細花冬青香氛油10ml MUI       8.0  2019-01-01      672.0\n",
              "...           ...                    ...       ...         ...        ...\n",
              "1404430      KQ02           玫瑰晶萃活膚液130ml      16.0  2020-12-31     2946.0\n",
              "1404431    GAXFG1  真正除臭抗菌噴霧(銀離子迷迭香)250ml       8.0  2020-12-31      309.0\n",
              "1404432    MAB2G1      BA-5肌密全效噴霧奇蹟水70ml       8.0  2020-12-31     1094.0\n",
              "1404433     WD096    緊緻保濕裸膚羽翼面膜25ml-零售單包      16.0  2020-12-31      165.0\n",
              "1404434    GAXFG2  真正除臭抗菌噴霧(銀離子迷迭香)350ml       8.0  2020-12-31      441.0\n",
              "\n",
              "[1404435 rows x 5 columns]"
            ]
          },
          "metadata": {},
          "execution_count": 22
        }
      ]
    },
    {
      "cell_type": "markdown",
      "metadata": {
        "id": "oUt3DgU9-woa"
      },
      "source": [
        "####抓出Quantity大於2的交易資料，欄位顯示有StockCode， Description，Quantity，InvoiceDate， UnitPrice​"
      ]
    },
    {
      "cell_type": "code",
      "metadata": {
        "id": "_vc3WOIb5tMr"
      },
      "source": [
        "data2 = data[['StockCode','Description','Quantity','InvoiceDate','UnitPrice']]"
      ],
      "execution_count": 27,
      "outputs": []
    },
    {
      "cell_type": "code",
      "metadata": {
        "colab": {
          "base_uri": "https://localhost:8080/",
          "height": 423
        },
        "id": "d7K0dsPL6n7k",
        "outputId": "a4ff80d4-9a18-4e24-a958-8879a393925f"
      },
      "source": [
        "data2[data2['Quantity']>2] #抓出大於2的交易"
      ],
      "execution_count": 28,
      "outputs": [
        {
          "output_type": "execute_result",
          "data": {
            "text/html": [
              "<div>\n",
              "<style scoped>\n",
              "    .dataframe tbody tr th:only-of-type {\n",
              "        vertical-align: middle;\n",
              "    }\n",
              "\n",
              "    .dataframe tbody tr th {\n",
              "        vertical-align: top;\n",
              "    }\n",
              "\n",
              "    .dataframe thead th {\n",
              "        text-align: right;\n",
              "    }\n",
              "</style>\n",
              "<table border=\"1\" class=\"dataframe\">\n",
              "  <thead>\n",
              "    <tr style=\"text-align: right;\">\n",
              "      <th></th>\n",
              "      <th>StockCode</th>\n",
              "      <th>Description</th>\n",
              "      <th>Quantity</th>\n",
              "      <th>InvoiceDate</th>\n",
              "      <th>UnitPrice</th>\n",
              "    </tr>\n",
              "  </thead>\n",
              "  <tbody>\n",
              "    <tr>\n",
              "      <th>0</th>\n",
              "      <td>JA01</td>\n",
              "      <td>晶淬雪潔顏乳100ml</td>\n",
              "      <td>8.0</td>\n",
              "      <td>2019-01-01</td>\n",
              "      <td>1259.0</td>\n",
              "    </tr>\n",
              "    <tr>\n",
              "      <th>1</th>\n",
              "      <td>KG06</td>\n",
              "      <td>多肽亮眼乳霜20g-保濕型</td>\n",
              "      <td>8.0</td>\n",
              "      <td>2019-01-01</td>\n",
              "      <td>839.0</td>\n",
              "    </tr>\n",
              "    <tr>\n",
              "      <th>2</th>\n",
              "      <td>BJ102</td>\n",
              "      <td>檸檬精油10ml MUI</td>\n",
              "      <td>8.0</td>\n",
              "      <td>2019-01-01</td>\n",
              "      <td>839.0</td>\n",
              "    </tr>\n",
              "    <tr>\n",
              "      <th>4</th>\n",
              "      <td>BJ103</td>\n",
              "      <td>細花冬青香氛油10ml MUI</td>\n",
              "      <td>8.0</td>\n",
              "      <td>2019-01-01</td>\n",
              "      <td>672.0</td>\n",
              "    </tr>\n",
              "    <tr>\n",
              "      <th>5</th>\n",
              "      <td>K8018</td>\n",
              "      <td>植粹養護潤髮乳475ml</td>\n",
              "      <td>8.0</td>\n",
              "      <td>2019-01-01</td>\n",
              "      <td>549.0</td>\n",
              "    </tr>\n",
              "    <tr>\n",
              "      <th>...</th>\n",
              "      <td>...</td>\n",
              "      <td>...</td>\n",
              "      <td>...</td>\n",
              "      <td>...</td>\n",
              "      <td>...</td>\n",
              "    </tr>\n",
              "    <tr>\n",
              "      <th>1404430</th>\n",
              "      <td>KQ02</td>\n",
              "      <td>玫瑰晶萃活膚液130ml</td>\n",
              "      <td>16.0</td>\n",
              "      <td>2020-12-31</td>\n",
              "      <td>2946.0</td>\n",
              "    </tr>\n",
              "    <tr>\n",
              "      <th>1404431</th>\n",
              "      <td>GAXFG1</td>\n",
              "      <td>真正除臭抗菌噴霧(銀離子迷迭香)250ml</td>\n",
              "      <td>8.0</td>\n",
              "      <td>2020-12-31</td>\n",
              "      <td>309.0</td>\n",
              "    </tr>\n",
              "    <tr>\n",
              "      <th>1404432</th>\n",
              "      <td>MAB2G1</td>\n",
              "      <td>BA-5肌密全效噴霧奇蹟水70ml</td>\n",
              "      <td>8.0</td>\n",
              "      <td>2020-12-31</td>\n",
              "      <td>1094.0</td>\n",
              "    </tr>\n",
              "    <tr>\n",
              "      <th>1404433</th>\n",
              "      <td>WD096</td>\n",
              "      <td>緊緻保濕裸膚羽翼面膜25ml-零售單包</td>\n",
              "      <td>16.0</td>\n",
              "      <td>2020-12-31</td>\n",
              "      <td>165.0</td>\n",
              "    </tr>\n",
              "    <tr>\n",
              "      <th>1404434</th>\n",
              "      <td>GAXFG2</td>\n",
              "      <td>真正除臭抗菌噴霧(銀離子迷迭香)350ml</td>\n",
              "      <td>8.0</td>\n",
              "      <td>2020-12-31</td>\n",
              "      <td>441.0</td>\n",
              "    </tr>\n",
              "  </tbody>\n",
              "</table>\n",
              "<p>1397796 rows × 5 columns</p>\n",
              "</div>"
            ],
            "text/plain": [
              "        StockCode            Description  Quantity InvoiceDate  UnitPrice\n",
              "0            JA01            晶淬雪潔顏乳100ml       8.0  2019-01-01     1259.0\n",
              "1            KG06          多肽亮眼乳霜20g-保濕型       8.0  2019-01-01      839.0\n",
              "2           BJ102           檸檬精油10ml MUI       8.0  2019-01-01      839.0\n",
              "4           BJ103        細花冬青香氛油10ml MUI       8.0  2019-01-01      672.0\n",
              "5           K8018           植粹養護潤髮乳475ml       8.0  2019-01-01      549.0\n",
              "...           ...                    ...       ...         ...        ...\n",
              "1404430      KQ02           玫瑰晶萃活膚液130ml      16.0  2020-12-31     2946.0\n",
              "1404431    GAXFG1  真正除臭抗菌噴霧(銀離子迷迭香)250ml       8.0  2020-12-31      309.0\n",
              "1404432    MAB2G1      BA-5肌密全效噴霧奇蹟水70ml       8.0  2020-12-31     1094.0\n",
              "1404433     WD096    緊緻保濕裸膚羽翼面膜25ml-零售單包      16.0  2020-12-31      165.0\n",
              "1404434    GAXFG2  真正除臭抗菌噴霧(銀離子迷迭香)350ml       8.0  2020-12-31      441.0\n",
              "\n",
              "[1397796 rows x 5 columns]"
            ]
          },
          "metadata": {},
          "execution_count": 28
        }
      ]
    },
    {
      "cell_type": "markdown",
      "metadata": {
        "id": "i-mkJhUQ-7_W"
      },
      "source": [
        "####顯示index為1000的那筆資料的member_code與Description"
      ]
    },
    {
      "cell_type": "code",
      "metadata": {
        "id": "AOwaIC6R7bcO"
      },
      "source": [
        "data3 = data[['CustomerID','Description']]"
      ],
      "execution_count": 30,
      "outputs": []
    },
    {
      "cell_type": "code",
      "metadata": {
        "colab": {
          "base_uri": "https://localhost:8080/"
        },
        "id": "RuWqzhSd802p",
        "outputId": "8fd6ea88-0e9e-417c-f372-77c44fc015bb"
      },
      "source": [
        "data3.iloc[1000]"
      ],
      "execution_count": 31,
      "outputs": [
        {
          "output_type": "execute_result",
          "data": {
            "text/plain": [
              "CustomerID         9.1e+12\n",
              "Description    頭部活氧熱舒壓課程單堂\n",
              "Name: 1000, dtype: object"
            ]
          },
          "metadata": {},
          "execution_count": 31
        }
      ]
    },
    {
      "cell_type": "code",
      "metadata": {
        "colab": {
          "base_uri": "https://localhost:8080/"
        },
        "id": "-WB5gTbI9YOD",
        "outputId": "6b297604-c759-4c2b-fd1a-191ff14ebcbf"
      },
      "source": [
        "data.iloc[1000,[2,6]] #做法跟31一樣意思"
      ],
      "execution_count": 32,
      "outputs": [
        {
          "output_type": "execute_result",
          "data": {
            "text/plain": [
              "Description    頭部活氧熱舒壓課程單堂\n",
              "CustomerID         9.1e+12\n",
              "Name: 1000, dtype: object"
            ]
          },
          "metadata": {},
          "execution_count": 32
        }
      ]
    },
    {
      "cell_type": "code",
      "metadata": {
        "colab": {
          "base_uri": "https://localhost:8080/"
        },
        "id": "v9NVjxuB-EKO",
        "outputId": "b4834f22-b90a-4d17-894a-fbc27774819c"
      },
      "source": [
        "data.iloc[1000,2:7:4] #做法跟31一樣意思"
      ],
      "execution_count": 33,
      "outputs": [
        {
          "output_type": "execute_result",
          "data": {
            "text/plain": [
              "Description    頭部活氧熱舒壓課程單堂\n",
              "CustomerID         9.1e+12\n",
              "Name: 1000, dtype: object"
            ]
          },
          "metadata": {},
          "execution_count": 33
        }
      ]
    },
    {
      "cell_type": "code",
      "metadata": {
        "id": "q63OnZ6w-bIv"
      },
      "source": [
        ""
      ],
      "execution_count": null,
      "outputs": []
    }
  ]
}